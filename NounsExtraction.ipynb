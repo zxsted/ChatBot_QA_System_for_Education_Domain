{
 "cells": [
  {
   "cell_type": "code",
   "execution_count": 2,
   "metadata": {
    "collapsed": true
   },
   "outputs": [],
   "source": [
    "import pandas as pd"
   ]
  },
  {
   "cell_type": "code",
   "execution_count": 3,
   "metadata": {
    "collapsed": false
   },
   "outputs": [],
   "source": [
    "df = pd.read_excel('Question_Answers.xlsx')"
   ]
  },
  {
   "cell_type": "code",
   "execution_count": 3,
   "metadata": {
    "collapsed": true
   },
   "outputs": [],
   "source": [
    "df.Questions = df.Questions.str.lower()"
   ]
  },
  {
   "cell_type": "code",
   "execution_count": 4,
   "metadata": {
    "collapsed": false
   },
   "outputs": [],
   "source": [
    "import nltk\n",
    "temp=[]\n",
    "for i in list(df['Questions']):\n",
    "    temp.append(nltk.word_tokenize(i))\n",
    "\n",
    "postag = []\n",
    "for i in temp:\n",
    "    postag.append(nltk.pos_tag(i))\n",
    "    \n",
    "\n",
    "Nouns = []\n",
    "\n",
    "for row in postag:\n",
    "    N = []\n",
    "    for num in range(len(row)):\n",
    "        word = row[num]\n",
    "        if word[1][0] == 'N' or word[1][:2] == 'JJ' :\n",
    "            N.append(word[0])\n",
    "    Nouns.append(N)\n",
    "\n",
    "Nouns=pd.DataFrame(Nouns)\n",
    "Nouns['Nouns'] = Nouns[0].map(str) + ' ' + Nouns[1].map(str) + ' ' + Nouns[2].map(str) + ' ' + Nouns[3].map(str) + ' ' + Nouns[4].map(str) + ' ' + Nouns[5].map(str)\n",
    "Nouns.drop(Nouns[[0,1,2,3,4,5]], axis=1, inplace=True)\n",
    "for i in range(len(Nouns)):\n",
    "    Nouns.Nouns.loc[i] = Nouns.Nouns.loc[i].replace(' None', '')\n"
   ]
  },
  {
   "cell_type": "code",
   "execution_count": 5,
   "metadata": {
    "collapsed": false
   },
   "outputs": [],
   "source": [
    "df['Nouns'] = Nouns"
   ]
  },
  {
   "cell_type": "code",
   "execution_count": 6,
   "metadata": {
    "collapsed": false
   },
   "outputs": [],
   "source": [
    "df.to_excel('Data.xlsx')"
   ]
  },
  {
   "cell_type": "code",
   "execution_count": null,
   "metadata": {
    "collapsed": true
   },
   "outputs": [],
   "source": []
  },
  {
   "cell_type": "code",
   "execution_count": null,
   "metadata": {
    "collapsed": true
   },
   "outputs": [],
   "source": []
  }
 ],
 "metadata": {
  "anaconda-cloud": {},
  "kernelspec": {
   "display_name": "Python [conda root]",
   "language": "python",
   "name": "conda-root-py"
  },
  "language_info": {
   "codemirror_mode": {
    "name": "ipython",
    "version": 3
   },
   "file_extension": ".py",
   "mimetype": "text/x-python",
   "name": "python",
   "nbconvert_exporter": "python",
   "pygments_lexer": "ipython3",
   "version": "3.5.2"
  }
 },
 "nbformat": 4,
 "nbformat_minor": 1
}

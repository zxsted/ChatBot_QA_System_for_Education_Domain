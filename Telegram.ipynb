{
 "cells": [
  {
   "cell_type": "code",
   "execution_count": 1,
   "metadata": {
    "collapsed": false
   },
   "outputs": [],
   "source": [
    "a = []\n",
    "import TeleBot"
   ]
  },
  {
   "cell_type": "code",
   "execution_count": null,
   "metadata": {
    "collapsed": false
   },
   "outputs": [],
   "source": [
    "import json\n",
    "import requests\n",
    "import time\n",
    "import urllib\n",
    "\n",
    "\n",
    "TOKEN = ''\n",
    "URL = \"https://api.telegram.org/bot{}/\".format(TOKEN)\n",
    "                \n",
    "\n",
    "def get_url(url):\n",
    "    response = requests.get(url)\n",
    "    content = response.content.decode(\"utf8\")\n",
    "    return content\n",
    "\n",
    "\n",
    "def get_json_from_url(url):\n",
    "    content = get_url(url)\n",
    "    js = json.loads(content)\n",
    "    return js\n",
    "\n",
    "\n",
    "def get_updates(offset=None):\n",
    "    url = URL + \"getUpdates\"\n",
    "    if offset:\n",
    "        url += \"?offset={}\".format(offset)\n",
    "    js = get_json_from_url(url)\n",
    "    for i in enumerate(js['result']):\n",
    "        if 'text' not in i[1]['message']:\n",
    "            del js['result'][i[0]]\n",
    "    return js\n",
    "\n",
    "def dictIDs():\n",
    "    for i in get_updates()['result']:\n",
    "        ID = i['message']['from']['id']\n",
    "        TeleBot.chatTracker[ID] = {}\n",
    "        TeleBot.chatTracker[ID]['c'] = ''\n",
    "        TeleBot.chatTracker[ID]['prev'] = ''\n",
    "\n",
    "\n",
    "def get_last_update_id(updates):\n",
    "    update_ids = []\n",
    "    for update in updates[\"result\"]:\n",
    "        update_ids.append(int(update[\"update_id\"]))\n",
    "    return max(update_ids)\n",
    "\n",
    "\n",
    "def echo_all(updates):\n",
    "    for i in get_updates()['result']:\n",
    "        if i['message']['from']['id'] not in TeleBot.chatTracker:\n",
    "            ID = i['message']['from']['id']\n",
    "            TeleBot.chatTracker[ID] = {}\n",
    "            TeleBot.chatTracker[ID]['c'] = ''\n",
    "            TeleBot.chatTracker[ID]['prev'] = ''\n",
    "    for update in updates[\"result\"]:\n",
    "        text = update[\"message\"][\"text\"]\n",
    "        chat = update[\"message\"][\"chat\"][\"id\"]\n",
    "        if text != '/start':\n",
    "            send_message(TeleBot.spjBot(text, chat, TeleBot.chatTracker[chat]['c'], TeleBot.chatTracker[chat]['prev']), chat)\n",
    "\n",
    "\n",
    "def get_last_chat_id_and_text(updates):\n",
    "    num_updates = len(updates[\"result\"])\n",
    "    last_update = num_updates - 1\n",
    "    text = updates[\"result\"][last_update][\"message\"][\"text\"]\n",
    "    chat_id = updates[\"result\"][last_update][\"message\"][\"chat\"][\"id\"]\n",
    "    return (text, chat_id)\n",
    "\n",
    "\n",
    "def send_message(text, chat_id):\n",
    "    #text = urllib.parse.quote_plus(text)\n",
    "    url = URL + \"sendMessage?text={}&chat_id={}\".format(text, chat_id)\n",
    "    get_url(url)\n",
    "\n",
    "\n",
    "def main():\n",
    "    last_update_id = None\n",
    "    dictIDs()\n",
    "    while True:\n",
    "        for i in get_updates()['result']:\n",
    "            if i['message']['from']['id'] not in TeleBot.chatTracker:\n",
    "                a.append(i)\n",
    "                print(i)\n",
    "                ID = i['message']['from']['id']\n",
    "                TeleBot.chatTracker[ID] = {}\n",
    "                TeleBot.chatTracker[ID]['c'] = ''\n",
    "                TeleBot.chatTracker[ID]['prev'] = ''\n",
    "        updates = get_updates(last_update_id)\n",
    "        if len(updates[\"result\"]) > 0:\n",
    "            last_update_id = get_last_update_id(updates) + 1\n",
    "            echo_all(updates)\n",
    "        time.sleep(0.5)\n",
    "\n",
    "if __name__ == '__main__':\n",
    "    main()"
   ]
  },
  {
   "cell_type": "code",
   "execution_count": null,
   "metadata": {
    "collapsed": true
   },
   "outputs": [],
   "source": [
    "\n",
    "\n"
   ]
  },
  {
   "cell_type": "code",
   "execution_count": 3,
   "metadata": {
    "collapsed": false
   },
   "outputs": [
    {
     "data": {
      "text/plain": [
       "{432350371: {'c': '', 'prev': ''}}"
      ]
     },
     "execution_count": 3,
     "metadata": {},
     "output_type": "execute_result"
    }
   ],
   "source": [
    "TeleBot.chatTracker"
   ]
  },
  {
   "cell_type": "code",
   "execution_count": 4,
   "metadata": {
    "collapsed": false
   },
   "outputs": [
    {
     "data": {
      "text/plain": [
       "[]"
      ]
     },
     "execution_count": 4,
     "metadata": {},
     "output_type": "execute_result"
    }
   ],
   "source": [
    "a"
   ]
  },
  {
   "cell_type": "code",
   "execution_count": null,
   "metadata": {
    "collapsed": true
   },
   "outputs": [],
   "source": []
  },
  {
   "cell_type": "code",
   "execution_count": null,
   "metadata": {
    "collapsed": true
   },
   "outputs": [],
   "source": []
  },
  {
   "cell_type": "code",
   "execution_count": null,
   "metadata": {
    "collapsed": true
   },
   "outputs": [],
   "source": []
  },
  {
   "cell_type": "code",
   "execution_count": 6,
   "metadata": {
    "collapsed": true
   },
   "outputs": [],
   "source": []
  },
  {
   "cell_type": "code",
   "execution_count": null,
   "metadata": {
    "collapsed": true
   },
   "outputs": [],
   "source": []
  }
 ],
 "metadata": {
  "anaconda-cloud": {},
  "kernelspec": {
   "display_name": "Python [default]",
   "language": "python",
   "name": "python3"
  },
  "language_info": {
   "codemirror_mode": {
    "name": "ipython",
    "version": 3
   },
   "file_extension": ".py",
   "mimetype": "text/x-python",
   "name": "python",
   "nbconvert_exporter": "python",
   "pygments_lexer": "ipython3",
   "version": "3.5.2"
  }
 },
 "nbformat": 4,
 "nbformat_minor": 2
}

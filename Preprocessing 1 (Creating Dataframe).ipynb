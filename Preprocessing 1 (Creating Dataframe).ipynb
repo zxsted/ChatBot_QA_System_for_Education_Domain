{
 "cells": [
  {
   "cell_type": "code",
   "execution_count": 8,
   "metadata": {
    "collapsed": true
   },
   "outputs": [],
   "source": [
    "import pandas as pd\n",
    "import numpy as np"
   ]
  },
  {
   "cell_type": "code",
   "execution_count": 9,
   "metadata": {
    "collapsed": false
   },
   "outputs": [],
   "source": [
    "file = open(\"Document.txt\",\"r\") "
   ]
  },
  {
   "cell_type": "code",
   "execution_count": 10,
   "metadata": {
    "collapsed": false
   },
   "outputs": [],
   "source": [
    "strData = file.read()"
   ]
  },
  {
   "cell_type": "code",
   "execution_count": 51,
   "metadata": {
    "collapsed": false
   },
   "outputs": [
    {
     "data": {
      "text/plain": [
       "\"\\nTimestamp: 2016-12-29T20:06:17Z\\nUnread:true\\nVisitor ID: 414854.eKg6yeOxSWpAU9\\nVisitor Name: Thierry\\nVisitor Email: dagothierrygoze@yahoo.fr\\nVisitor Notes: \\nIP: 41.189.49.6\\nCountry Code: CI\\nCountry Name: Cote D'Ivoire\\nRegion: Lagunes\\nCity: Abidjan\\nUser Agent: Mozilla/5.0 (Windows NT 5.1) AppleWebKit/537.36 (KHTML, like Gecko) Chrome/49.0.2623.112 Safari/537.36\\nPlatform: Windows\\nBrowser: Chrome\\n\\nMessage: I have applied for MGB january starting date, but I have stated my counsellor to change it for May 2017..But my enrollment counsellor doesn't give me outcome since many months\\n================================================================================\\nTimestamp: 2016-12-29T17:44:23Z\\nUnread:true\\nVisitor ID: 414854.eKg6xjBlrnqA58\\nVisitor Name: Shweta Vehele\\nVisitor Email: shwetavehele24@gmail.com\\nVisitor Notes: \\nIP: 42.106.3.156\\nCountry Code: IN\\nCountry Name: India\\nRegion: \\nCity: \\nUser Agent: Mozilla/5.0 (Windows NT 6.1; WOW64; rv:49.0) Gecko/20100101 Firefox/49.0\\nPlatform: Windows\\nBrowser: Firefox\\n\\nMessage: Have the applications for PGDM and PGP programmes closed?\\n\""
      ]
     },
     "execution_count": 51,
     "metadata": {},
     "output_type": "execute_result"
    }
   ],
   "source": [
    "strData[:1084]"
   ]
  },
  {
   "cell_type": "code",
   "execution_count": 11,
   "metadata": {
    "collapsed": false
   },
   "outputs": [],
   "source": [
    "listD = strData.split(\"================================================================================\")"
   ]
  },
  {
   "cell_type": "code",
   "execution_count": 52,
   "metadata": {
    "collapsed": false
   },
   "outputs": [
    {
     "data": {
      "text/plain": [
       "1113"
      ]
     },
     "execution_count": 52,
     "metadata": {},
     "output_type": "execute_result"
    }
   ],
   "source": [
    "#No. of Visitors in our Data\n",
    "strData.count(\"================================================================================\")"
   ]
  },
  {
   "cell_type": "code",
   "execution_count": 53,
   "metadata": {
    "collapsed": false
   },
   "outputs": [],
   "source": [
    "Chats = [i.split('\\n') for i in listD]"
   ]
  },
  {
   "cell_type": "code",
   "execution_count": 54,
   "metadata": {
    "collapsed": false
   },
   "outputs": [],
   "source": [
    "del Chats[1113]"
   ]
  },
  {
   "cell_type": "code",
   "execution_count": 55,
   "metadata": {
    "collapsed": false
   },
   "outputs": [],
   "source": [
    "ChatsWithResponse = []\n",
    "for i in range(1113):\n",
    "    if 'Message:' not in ''.join(Chats[i]):\n",
    "        ChatsWithResponse.append(Chats[i])\n",
    "       "
   ]
  },
  {
   "cell_type": "code",
   "execution_count": 56,
   "metadata": {
    "collapsed": false
   },
   "outputs": [],
   "source": [
    "temp = pd.DataFrame(ChatsWithResponse)\n",
    "Sum = 0\n",
    "exceptions = []\n",
    "for i in range(591):\n",
    "    if 'Angel' not in str(list(temp.loc[i])) and 'Customer Service' not in str(list(temp.loc[i])):\n",
    "        exceptions.append(i)\n",
    "        \n",
    "temp.drop(temp.index[exceptions], inplace=True)\n"
   ]
  },
  {
   "cell_type": "code",
   "execution_count": 57,
   "metadata": {
    "collapsed": false
   },
   "outputs": [
    {
     "data": {
      "text/plain": [
       "552"
      ]
     },
     "execution_count": 57,
     "metadata": {},
     "output_type": "execute_result"
    }
   ],
   "source": [
    "len(temp)"
   ]
  },
  {
   "cell_type": "code",
   "execution_count": 58,
   "metadata": {
    "collapsed": false
   },
   "outputs": [
    {
     "data": {
      "text/plain": [
       "352"
      ]
     },
     "execution_count": 58,
     "metadata": {},
     "output_type": "execute_result"
    }
   ],
   "source": [
    "HumanRespSum = 0\n",
    "ind = []\n",
    "for i in temp.index:\n",
    "    if 'Angel' in str(list(temp.loc[i])):\n",
    "        HumanRespSum = HumanRespSum + 1\n",
    "    else:\n",
    "        ind.append(i)\n",
    "HumanRespSum"
   ]
  },
  {
   "cell_type": "code",
   "execution_count": 59,
   "metadata": {
    "collapsed": false
   },
   "outputs": [],
   "source": [
    "del temp[0]"
   ]
  },
  {
   "cell_type": "code",
   "execution_count": 60,
   "metadata": {
    "collapsed": false
   },
   "outputs": [],
   "source": [
    "df = temp.copy()"
   ]
  },
  {
   "cell_type": "code",
   "execution_count": 61,
   "metadata": {
    "collapsed": false
   },
   "outputs": [],
   "source": [
    "df['Conversation'] = df[16].map(str) + df[17].map(str)\n",
    "for i in range(18,91):\n",
    "    df['Conversation'] = df['Conversation'] + df[i].map(str)"
   ]
  },
  {
   "cell_type": "code",
   "execution_count": 62,
   "metadata": {
    "collapsed": false
   },
   "outputs": [],
   "source": [
    "for i in range(15,91):\n",
    "    del df[i]"
   ]
  },
  {
   "cell_type": "code",
   "execution_count": 63,
   "metadata": {
    "collapsed": false
   },
   "outputs": [
    {
     "data": {
      "text/plain": [
       "Int64Index([  0,   1,   2,   3,   4,   5,   6,   7,   8,   9,\n",
       "            ...\n",
       "            579, 580, 581, 582, 583, 584, 586, 587, 588, 589],\n",
       "           dtype='int64', length=552)"
      ]
     },
     "execution_count": 63,
     "metadata": {},
     "output_type": "execute_result"
    }
   ],
   "source": [
    "df.index"
   ]
  },
  {
   "cell_type": "code",
   "execution_count": 64,
   "metadata": {
    "collapsed": false
   },
   "outputs": [],
   "source": [
    "for i in df.index:\n",
    "    df['Conversation'].loc[i] = df['Conversation'].loc[i].replace('None', '')"
   ]
  },
  {
   "cell_type": "code",
   "execution_count": 65,
   "metadata": {
    "collapsed": true
   },
   "outputs": [],
   "source": [
    "ColNames = ['Timestamp', 'Unread', 'Visitor ID', 'Visitor Name', 'Visitor Email', 'Visitor Notes', \n",
    "            'IP', 'Country Code', 'Country Name', 'Region', 'City', 'User Agent', 'Platform', \n",
    "            'Browser', 'Conversation']"
   ]
  },
  {
   "cell_type": "code",
   "execution_count": 66,
   "metadata": {
    "collapsed": false
   },
   "outputs": [
    {
     "data": {
      "text/plain": [
       "'Unread'"
      ]
     },
     "execution_count": 66,
     "metadata": {},
     "output_type": "execute_result"
    }
   ],
   "source": [
    "ColNames[1]"
   ]
  },
  {
   "cell_type": "code",
   "execution_count": 67,
   "metadata": {
    "collapsed": false
   },
   "outputs": [],
   "source": [
    "df.columns = ColNames"
   ]
  },
  {
   "cell_type": "code",
   "execution_count": 68,
   "metadata": {
    "collapsed": false
   },
   "outputs": [],
   "source": [
    "for i in df.index:\n",
    "    for j in ColNames:\n",
    "        df[j].loc[i] = df[j].loc[i].replace(j+':', '')\n",
    "\n",
    "    "
   ]
  },
  {
   "cell_type": "code",
   "execution_count": 70,
   "metadata": {
    "collapsed": false
   },
   "outputs": [
    {
     "data": {
      "text/html": [
       "<div>\n",
       "<table border=\"1\" class=\"dataframe\">\n",
       "  <thead>\n",
       "    <tr style=\"text-align: right;\">\n",
       "      <th></th>\n",
       "      <th>Timestamp</th>\n",
       "      <th>Unread</th>\n",
       "      <th>Visitor ID</th>\n",
       "      <th>Visitor Name</th>\n",
       "      <th>Visitor Email</th>\n",
       "      <th>Visitor Notes</th>\n",
       "      <th>IP</th>\n",
       "      <th>Country Code</th>\n",
       "      <th>Country Name</th>\n",
       "      <th>Region</th>\n",
       "      <th>City</th>\n",
       "      <th>User Agent</th>\n",
       "      <th>Platform</th>\n",
       "      <th>Browser</th>\n",
       "      <th>Conversation</th>\n",
       "    </tr>\n",
       "  </thead>\n",
       "  <tbody>\n",
       "    <tr>\n",
       "      <th>288</th>\n",
       "      <td>2017-01-25T10:33:50Z</td>\n",
       "      <td>false</td>\n",
       "      <td>414854.elgB1XbkXqMAKZ</td>\n",
       "      <td>Shravan</td>\n",
       "      <td>dubeshravan7@gmail.com</td>\n",
       "      <td></td>\n",
       "      <td>122.15.156.72</td>\n",
       "      <td>IN</td>\n",
       "      <td>India</td>\n",
       "      <td></td>\n",
       "      <td></td>\n",
       "      <td>Mozilla/5.0 (Windows NT 6.1; Win64; x64) Appl...</td>\n",
       "      <td>Windows</td>\n",
       "      <td>Chrome</td>\n",
       "      <td>(2017-01-25 10:33:50) Shravan: My Application ...</td>\n",
       "    </tr>\n",
       "    <tr>\n",
       "      <th>423</th>\n",
       "      <td>2017-02-07T08:27:09Z</td>\n",
       "      <td>true</td>\n",
       "      <td>414854.eygCzJiPb5sn4T</td>\n",
       "      <td>karthikeyan</td>\n",
       "      <td>karthikkeyan1976@gmail.com</td>\n",
       "      <td></td>\n",
       "      <td>42.111.134.225</td>\n",
       "      <td>IN</td>\n",
       "      <td>India</td>\n",
       "      <td></td>\n",
       "      <td></td>\n",
       "      <td>Mozilla/5.0 (Windows NT 6.3; Win64; x64) Appl...</td>\n",
       "      <td>Windows</td>\n",
       "      <td>Chrome</td>\n",
       "      <td>(2017-02-07 08:27:09) karthikeyan: kindly send...</td>\n",
       "    </tr>\n",
       "  </tbody>\n",
       "</table>\n",
       "</div>"
      ],
      "text/plain": [
       "                 Timestamp Unread              Visitor ID  Visitor Name  \\\n",
       "288   2017-01-25T10:33:50Z  false   414854.elgB1XbkXqMAKZ       Shravan   \n",
       "423   2017-02-07T08:27:09Z   true   414854.eygCzJiPb5sn4T   karthikeyan   \n",
       "\n",
       "                   Visitor Email Visitor Notes               IP Country Code  \\\n",
       "288       dubeshravan7@gmail.com                  122.15.156.72           IN   \n",
       "423   karthikkeyan1976@gmail.com                 42.111.134.225           IN   \n",
       "\n",
       "    Country Name Region City  \\\n",
       "288        India               \n",
       "423        India               \n",
       "\n",
       "                                            User Agent  Platform  Browser  \\\n",
       "288   Mozilla/5.0 (Windows NT 6.1; Win64; x64) Appl...   Windows   Chrome   \n",
       "423   Mozilla/5.0 (Windows NT 6.3; Win64; x64) Appl...   Windows   Chrome   \n",
       "\n",
       "                                          Conversation  \n",
       "288  (2017-01-25 10:33:50) Shravan: My Application ...  \n",
       "423  (2017-02-07 08:27:09) karthikeyan: kindly send...  "
      ]
     },
     "execution_count": 70,
     "metadata": {},
     "output_type": "execute_result"
    }
   ],
   "source": [
    "df.sample(2)"
   ]
  },
  {
   "cell_type": "code",
   "execution_count": 31,
   "metadata": {
    "collapsed": false
   },
   "outputs": [],
   "source": [
    "writer = pd.ExcelWriter(path='C:/Users/Sachit/Desktop/BDAP/ChatBot/GT/ChatData.xlsx', engine='xlsxwriter', options={'strings_to_urls': False})\n",
    "df.to_excel(writer, sheet_name='Data')\n",
    "writer.save()"
   ]
  },
  {
   "cell_type": "code",
   "execution_count": null,
   "metadata": {
    "collapsed": false
   },
   "outputs": [],
   "source": []
  }
 ],
 "metadata": {
  "anaconda-cloud": {},
  "kernelspec": {
   "display_name": "Python [conda root]",
   "language": "python",
   "name": "conda-root-py"
  },
  "language_info": {
   "codemirror_mode": {
    "name": "ipython",
    "version": 3
   },
   "file_extension": ".py",
   "mimetype": "text/x-python",
   "name": "python",
   "nbconvert_exporter": "python",
   "pygments_lexer": "ipython3",
   "version": "3.5.2"
  }
 },
 "nbformat": 4,
 "nbformat_minor": 1
}

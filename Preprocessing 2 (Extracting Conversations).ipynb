{
 "cells": [
  {
   "cell_type": "code",
   "execution_count": 1,
   "metadata": {
    "collapsed": false
   },
   "outputs": [],
   "source": [
    "import pandas as pd\n",
    "import re"
   ]
  },
  {
   "cell_type": "code",
   "execution_count": 2,
   "metadata": {
    "collapsed": false
   },
   "outputs": [],
   "source": [
    "df = pd.read_excel(\"ChatData.xlsx\")"
   ]
  },
  {
   "cell_type": "code",
   "execution_count": 3,
   "metadata": {
    "collapsed": true
   },
   "outputs": [],
   "source": [
    "df.index = range(552) "
   ]
  },
  {
   "cell_type": "code",
   "execution_count": 4,
   "metadata": {
    "collapsed": false
   },
   "outputs": [
    {
     "name": "stderr",
     "output_type": "stream",
     "text": [
      "C:\\Users\\Sachit\\Anaconda3\\lib\\site-packages\\ipykernel\\__main__.py:2: SettingWithCopyWarning: \n",
      "A value is trying to be set on a copy of a slice from a DataFrame\n",
      "\n",
      "See the caveats in the documentation: http://pandas.pydata.org/pandas-docs/stable/indexing.html#indexing-view-versus-copy\n",
      "  from ipykernel import kernelapp as app\n"
     ]
    }
   ],
   "source": [
    "for i in range(552):\n",
    "    df['Conversation'][i] = re.sub(\"\\([0-9]{4}-[0-9]{2}-[0-9]{2} [0-9]{2}:[0-9]{2}:[0-9]{2}\\)+\", ' nr', df['Conversation'][i])\n",
    "    "
   ]
  },
  {
   "cell_type": "code",
   "execution_count": 5,
   "metadata": {
    "collapsed": false
   },
   "outputs": [
    {
     "name": "stderr",
     "output_type": "stream",
     "text": [
      "C:\\Users\\Sachit\\Anaconda3\\lib\\site-packages\\ipykernel\\__main__.py:2: SettingWithCopyWarning: \n",
      "A value is trying to be set on a copy of a slice from a DataFrame\n",
      "\n",
      "See the caveats in the documentation: http://pandas.pydata.org/pandas-docs/stable/indexing.html#indexing-view-versus-copy\n",
      "  from ipykernel import kernelapp as app\n"
     ]
    }
   ],
   "source": [
    "for i in range(552):\n",
    "    df['Visitor Name'][i] = df['Visitor Name'][i].lstrip(' ')"
   ]
  },
  {
   "cell_type": "code",
   "execution_count": 6,
   "metadata": {
    "collapsed": false,
    "scrolled": true
   },
   "outputs": [
    {
     "data": {
      "text/html": [
       "<div>\n",
       "<table border=\"1\" class=\"dataframe\">\n",
       "  <thead>\n",
       "    <tr style=\"text-align: right;\">\n",
       "      <th></th>\n",
       "      <th>Conversation Num</th>\n",
       "      <th>Visitor</th>\n",
       "      <th>Chatbot</th>\n",
       "    </tr>\n",
       "  </thead>\n",
       "  <tbody>\n",
       "  </tbody>\n",
       "</table>\n",
       "</div>"
      ],
      "text/plain": [
       "Empty DataFrame\n",
       "Columns: [Conversation Num, Visitor, Chatbot]\n",
       "Index: []"
      ]
     },
     "execution_count": 6,
     "metadata": {},
     "output_type": "execute_result"
    }
   ],
   "source": [
    "Chats = pd.DataFrame(columns=['Conversation Num', 'Visitor', 'Chatbot'])\n",
    "Chats"
   ]
  },
  {
   "cell_type": "code",
   "execution_count": 7,
   "metadata": {
    "collapsed": true
   },
   "outputs": [],
   "source": [
    "Conv = Chats"
   ]
  },
  {
   "cell_type": "code",
   "execution_count": 8,
   "metadata": {
    "collapsed": false
   },
   "outputs": [],
   "source": [
    "Visitor = []\n",
    "CustomerS = []\n",
    "User = []\n",
    "\n",
    "for i in range(552):\n",
    "    p=0\n",
    "    chatItems = re.split(' nr ' + df['Visitor Name'][i]+ ': | nr Customer | nr Ang', df['Conversation'][i])             \n",
    "    for l in range(len(chatItems)):\n",
    "        if p>0:\n",
    "            p=p-1\n",
    "            pass  \n",
    "        else:\n",
    "            j = chatItems[l]\n",
    "            if j != '':\n",
    "                if j[:4] == 'el: ':\n",
    "                    CustomerS.append([j[4:], i])\n",
    "                    for k in range(len(chatItems)-l-1):\n",
    "                        if chatItems[l+1][:4] == 'el: ':\n",
    "                            CustomerS[-1].append(chatItems[l+1][4:])\n",
    "                            l=l+1\n",
    "                            p=p+1\n",
    "                        elif chatItems[l+1][:9] == 'Service: ':\n",
    "                            CustomerS[-1].append(chatItems[l+1][9:])    \n",
    "                            l=l+1\n",
    "                            p=p+1\n",
    "                        else:\n",
    "                            break\n",
    "                     \n",
    "                        \n",
    "                elif j[:9] == 'Service: ':\n",
    "                    CustomerS.append([j[9:], i])\n",
    "                    for k in range(len(chatItems)-l-1):\n",
    "                        if chatItems[l+1][:4] == 'el: ':\n",
    "                            CustomerS[-1].append(chatItems[l+1][4:])\n",
    "                            l=l+1\n",
    "                            p=p+1\n",
    "                        elif chatItems[l+1][:9] == 'Service: ':\n",
    "                            CustomerS[-1].append(chatItems[l+1][9:])\n",
    "                            l=l+1\n",
    "                            p=p+1\n",
    "                        else:\n",
    "                            break\n",
    "                       \n",
    "                  \n",
    "                else:\n",
    "                    User.append([j, i])\n",
    "                    for k in range(len(chatItems)-l-1):\n",
    "                        if chatItems[l+1][:4] != 'el: ' and chatItems[l+1][:9] != 'Service: ':\n",
    "                            User[-1].append(chatItems[l+1])\n",
    "                            l=l+1\n",
    "                            p=p+1\n",
    "                        else:\n",
    "                            break\n",
    "                       \n",
    "    "
   ]
  },
  {
   "cell_type": "code",
   "execution_count": 9,
   "metadata": {
    "collapsed": false
   },
   "outputs": [
    {
     "name": "stderr",
     "output_type": "stream",
     "text": [
      "C:\\Users\\Sachit\\Anaconda3\\lib\\site-packages\\pandas\\indexes\\api.py:71: RuntimeWarning: unorderable types: str() < int(), sort order is undefined for incomparable objects\n",
      "  result = result.union(other)\n"
     ]
    }
   ],
   "source": [
    "data = Conv.append(User)"
   ]
  },
  {
   "cell_type": "code",
   "execution_count": 10,
   "metadata": {
    "collapsed": false
   },
   "outputs": [],
   "source": [
    "data['Visitor'] = data[0].map(str) + '\\n' +data[2].map(str)\n",
    "for i in range(3,11):\n",
    "    data['Visitor'] = data['Visitor'] + '\\n' +data[i].map(str)"
   ]
  },
  {
   "cell_type": "code",
   "execution_count": 11,
   "metadata": {
    "collapsed": false,
    "scrolled": true
   },
   "outputs": [
    {
     "name": "stderr",
     "output_type": "stream",
     "text": [
      "C:\\Users\\Sachit\\Anaconda3\\lib\\site-packages\\ipykernel\\__main__.py:2: SettingWithCopyWarning: \n",
      "A value is trying to be set on a copy of a slice from a DataFrame\n",
      "\n",
      "See the caveats in the documentation: http://pandas.pydata.org/pandas-docs/stable/indexing.html#indexing-view-versus-copy\n",
      "  from ipykernel import kernelapp as app\n",
      "C:\\Users\\Sachit\\Anaconda3\\lib\\site-packages\\ipykernel\\__main__.py:3: SettingWithCopyWarning: \n",
      "A value is trying to be set on a copy of a slice from a DataFrame\n",
      "\n",
      "See the caveats in the documentation: http://pandas.pydata.org/pandas-docs/stable/indexing.html#indexing-view-versus-copy\n",
      "  app.launch_new_instance()\n"
     ]
    }
   ],
   "source": [
    "for i in range(len(data)):\n",
    "    data['Visitor'][i] = data['Visitor'][i].replace('None', '')\n",
    "    data['Visitor'][i] = data['Visitor'][i].rstrip('\\n')"
   ]
  },
  {
   "cell_type": "code",
   "execution_count": 12,
   "metadata": {
    "collapsed": false
   },
   "outputs": [],
   "source": [
    "data['Conversation Num'] = data[1]"
   ]
  },
  {
   "cell_type": "code",
   "execution_count": 13,
   "metadata": {
    "collapsed": false
   },
   "outputs": [],
   "source": [
    "data = data[['Conversation Num', 'Visitor', 'Chatbot']]"
   ]
  },
  {
   "cell_type": "code",
   "execution_count": 14,
   "metadata": {
    "collapsed": false
   },
   "outputs": [],
   "source": [
    "pd.options.display.float_format = '{:,.0f}'.format"
   ]
  },
  {
   "cell_type": "code",
   "execution_count": 15,
   "metadata": {
    "collapsed": false
   },
   "outputs": [
    {
     "name": "stderr",
     "output_type": "stream",
     "text": [
      "C:\\Users\\Sachit\\Anaconda3\\lib\\site-packages\\ipykernel\\__main__.py:6: SettingWithCopyWarning: \n",
      "A value is trying to be set on a copy of a slice from a DataFrame\n",
      "\n",
      "See the caveats in the documentation: http://pandas.pydata.org/pandas-docs/stable/indexing.html#indexing-view-versus-copy\n"
     ]
    }
   ],
   "source": [
    "k = 0\n",
    "for i in range(len(data)):\n",
    "    if k < len(CustomerS):\n",
    "        if data['Conversation Num'][i] == CustomerS[k][1]:\n",
    "            CustomerS[k].remove(CustomerS[k][1])\n",
    "            data['Chatbot'][i] = '\\n'.join(CustomerS[k])\n",
    "            k = k+1"
   ]
  },
  {
   "cell_type": "code",
   "execution_count": 21,
   "metadata": {
    "collapsed": false
   },
   "outputs": [
    {
     "data": {
      "text/html": [
       "<div>\n",
       "<table border=\"1\" class=\"dataframe\">\n",
       "  <thead>\n",
       "    <tr style=\"text-align: right;\">\n",
       "      <th></th>\n",
       "      <th>Conversation Num</th>\n",
       "      <th>Visitor</th>\n",
       "      <th>Chatbot</th>\n",
       "    </tr>\n",
       "  </thead>\n",
       "  <tbody>\n",
       "    <tr>\n",
       "      <th>0</th>\n",
       "      <td>0</td>\n",
       "      <td>wat about job?</td>\n",
       "      <td>We provide complete assistance for the placements</td>\n",
       "    </tr>\n",
       "    <tr>\n",
       "      <th>1</th>\n",
       "      <td>0</td>\n",
       "      <td>it means no guarantee?</td>\n",
       "      <td>NaN</td>\n",
       "    </tr>\n",
       "    <tr>\n",
       "      <th>2</th>\n",
       "      <td>1</td>\n",
       "      <td>BE IT, MBA Marketing\\nPune\\nmore than 3+ years...</td>\n",
       "      <td>We apologize for keeping you waiting. Our oper...</td>\n",
       "    </tr>\n",
       "    <tr>\n",
       "      <th>3</th>\n",
       "      <td>1</td>\n",
       "      <td>paresh\\nwaht is the total fees of digital mark...</td>\n",
       "      <td>Fees For DMM is INR 7,45,000\\nhttp://www.spjai...</td>\n",
       "    </tr>\n",
       "    <tr>\n",
       "      <th>4</th>\n",
       "      <td>2</td>\n",
       "      <td>I want to know the prospects SP Jain Global MB...</td>\n",
       "      <td>We apologize for keeping you waiting. Our oper...</td>\n",
       "    </tr>\n",
       "  </tbody>\n",
       "</table>\n",
       "</div>"
      ],
      "text/plain": [
       "   Conversation Num                                            Visitor  \\\n",
       "0                 0                                     wat about job?   \n",
       "1                 0                             it means no guarantee?   \n",
       "2                 1  BE IT, MBA Marketing\\nPune\\nmore than 3+ years...   \n",
       "3                 1  paresh\\nwaht is the total fees of digital mark...   \n",
       "4                 2  I want to know the prospects SP Jain Global MB...   \n",
       "\n",
       "                                             Chatbot  \n",
       "0  We provide complete assistance for the placements  \n",
       "1                                                NaN  \n",
       "2  We apologize for keeping you waiting. Our oper...  \n",
       "3  Fees For DMM is INR 7,45,000\\nhttp://www.spjai...  \n",
       "4  We apologize for keeping you waiting. Our oper...  "
      ]
     },
     "execution_count": 21,
     "metadata": {},
     "output_type": "execute_result"
    }
   ],
   "source": [
    "data.head()"
   ]
  },
  {
   "cell_type": "code",
   "execution_count": 17,
   "metadata": {
    "collapsed": false
   },
   "outputs": [
    {
     "data": {
      "text/plain": [
       "Conversation Num      0\n",
       "Visitor               0\n",
       "Chatbot             211\n",
       "dtype: int64"
      ]
     },
     "execution_count": 17,
     "metadata": {},
     "output_type": "execute_result"
    }
   ],
   "source": [
    "pd.isnull(data).sum()"
   ]
  },
  {
   "cell_type": "code",
   "execution_count": 19,
   "metadata": {
    "collapsed": false
   },
   "outputs": [],
   "source": [
    "writer = pd.ExcelWriter(path='C:/Users/Sachit/Desktop/BDAP/ChatBot/GT/Messages.xlsx', engine='xlsxwriter', options={'strings_to_urls': False})\n",
    "data.to_excel(writer, sheet_name='Messages')\n",
    "writer.save()"
   ]
  },
  {
   "cell_type": "code",
   "execution_count": null,
   "metadata": {
    "collapsed": true
   },
   "outputs": [],
   "source": []
  }
 ],
 "metadata": {
  "anaconda-cloud": {},
  "kernelspec": {
   "display_name": "Python [conda root]",
   "language": "python",
   "name": "conda-root-py"
  },
  "language_info": {
   "codemirror_mode": {
    "name": "ipython",
    "version": 3
   },
   "file_extension": ".py",
   "mimetype": "text/x-python",
   "name": "python",
   "nbconvert_exporter": "python",
   "pygments_lexer": "ipython3",
   "version": "3.5.2"
  }
 },
 "nbformat": 4,
 "nbformat_minor": 1
}
